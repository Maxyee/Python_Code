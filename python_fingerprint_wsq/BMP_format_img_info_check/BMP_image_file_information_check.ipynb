{
  "nbformat": 4,
  "nbformat_minor": 0,
  "metadata": {
    "colab": {
      "provenance": []
    },
    "kernelspec": {
      "name": "python3",
      "display_name": "Python 3"
    },
    "language_info": {
      "name": "python"
    }
  },
  "cells": [
    {
      "cell_type": "code",
      "execution_count": null,
      "metadata": {
        "colab": {
          "base_uri": "https://localhost:8080/"
        },
        "id": "8-M4c02Sst6A",
        "outputId": "ff1e5a13-cad5-4f14-ebd9-de61f2a6c422"
      },
      "outputs": [
        {
          "output_type": "stream",
          "name": "stdout",
          "text": [
            "BMP File Information:\n",
            "signature: b'BM'\n",
            "file_size: 10966\n",
            "reserved: 0\n",
            "offset: 1078\n",
            "dib_header_size: 40\n",
            "width: 96\n",
            "height: 103\n",
            "planes: 1\n",
            "bit_count: 8\n",
            "compression: 0\n",
            "image_size: 0\n",
            "x_pixels_per_meter: 3780\n",
            "y_pixels_per_meter: 3780\n",
            "colors_used: 256\n",
            "important_colors: 256\n"
          ]
        }
      ],
      "source": [
        "import struct\n",
        "\n",
        "def read_bmp_header(file_path):\n",
        "    with open(file_path, 'rb') as bmp_file:\n",
        "        # Read the BMP file header (14 bytes)\n",
        "        header = bmp_file.read(14)\n",
        "\n",
        "        # Unpack the header data\n",
        "        # Format: <little-endian, 2s (signature), I (file size), I (reserved), I (offset to pixel data)\n",
        "        signature, file_size, reserved, offset = struct.unpack('<2sIII', header)\n",
        "\n",
        "        # Check if the file is a BMP file\n",
        "        if signature != b'BM':\n",
        "            raise ValueError(\"Not a valid BMP file\")\n",
        "\n",
        "        # Read the DIB header (Information header)\n",
        "        dib_header_size = struct.unpack('<I', bmp_file.read(4))[0]\n",
        "\n",
        "        # Depending on the DIB header size, read the appropriate number of bytes\n",
        "        dib_header = bmp_file.read(dib_header_size - 4)\n",
        "\n",
        "        # Unpack the DIB header data\n",
        "        if dib_header_size == 40:  # BITMAPINFOHEADER\n",
        "            width, height, planes, bit_count, compression, image_size, x_pixels_per_meter, y_pixels_per_meter, colors_used, important_colors = struct.unpack('<IIHHIIIIII', dib_header)\n",
        "        elif dib_header_size == 108:  # BITMAPV4HEADER\n",
        "            width, height, planes, bit_count, compression, image_size, x_pixels_per_meter, y_pixels_per_meter, colors_used, important_colors, red_mask, green_mask, blue_mask, alpha_mask, cs_type, endpoints, gamma_red, gamma_green, gamma_blue = struct.unpack('<IIHHIIIIIIIIIIIIIII', dib_header)\n",
        "        elif dib_header_size == 124:  # BITMAPV5HEADER\n",
        "            width, height, planes, bit_count, compression, image_size, x_pixels_per_meter, y_pixels_per_meter, colors_used, important_colors, red_mask, green_mask, blue_mask, alpha_mask, cs_type, endpoints, gamma_red, gamma_green, gamma_blue, intent, profile_data, profile_size, reserved = struct.unpack('<IIHHIIIIIIIIIIIIIIIIIIII', dib_header)\n",
        "        else:\n",
        "            raise ValueError(\"Unsupported DIB header size\")\n",
        "\n",
        "        return {\n",
        "            'signature': signature,\n",
        "            'file_size': file_size,\n",
        "            'reserved': reserved,\n",
        "            'offset': offset,\n",
        "            'dib_header_size': dib_header_size,\n",
        "            'width': width,\n",
        "            'height': height,\n",
        "            'planes': planes,\n",
        "            'bit_count': bit_count,\n",
        "            'compression': compression,\n",
        "            'image_size': image_size,\n",
        "            'x_pixels_per_meter': x_pixels_per_meter,\n",
        "            'y_pixels_per_meter': y_pixels_per_meter,\n",
        "            'colors_used': colors_used,\n",
        "            'important_colors': important_colors\n",
        "        }\n",
        "\n",
        "# Example usage\n",
        "file_path = './sample_data/3__M_Left_index_finger_CR.BMP'\n",
        "bmp_info = read_bmp_header(file_path)\n",
        "print(\"BMP File Information:\")\n",
        "for key, value in bmp_info.items():\n",
        "    print(f\"{key}: {value}\")"
      ]
    },
    {
      "cell_type": "code",
      "source": [],
      "metadata": {
        "id": "ZAePc8gvtGvq"
      },
      "execution_count": null,
      "outputs": []
    }
  ]
}